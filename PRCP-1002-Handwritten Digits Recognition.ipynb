{
 "cells": [
  {
   "cell_type": "markdown",
   "id": "a80f2ebc-5e8e-4bd9-ae72-254212e941e6",
   "metadata": {},
   "source": [
    "**PROJECT INDIVIDUAL ID**: PTID-CDS-JAN-25-2392A  \n",
    "\n",
    "\n",
    "**PROJECT CODE**   : PRCP-1002-Handwritten Digits Recognition\n",
    "\n",
    "**PROJECT NAME**   : Handwritten digits image processing data recognition"
   ]
  },
  {
   "cell_type": "markdown",
   "id": "64a36139-65cc-42d3-a19a-dbc1fa67b1aa",
   "metadata": {},
   "source": [
    "# Introduction :-\n",
    "  1. Handwritten digit recognition is the process to provide the ability to machines to recognize human handwritten digits.\n",
    "  2. It is not an easy task for the machine because handwritten digits are not perfect, vary from person-to-person, and can be made with many different      flavors.\n",
    "  3. In this model, we are going to use the MNIST dataset for the implementation of a handwritten digit recognition.\n",
    "  4. To implement this we will use a special type of deep neural network called Convolutional Neural Networks(CNN).\n",
    "  5. In the end, we will also build a Graphical user interface(GUI) where you can directly draw the digit and recognize it straight away.\n",
    "  6. Also, We have cover handwriting recognition in python that stimulates how these handwritten code is implemented.\n",
    "  7. Deep learning is one such technique that contributes to developers enhancing machines.\n",
    "  8. Various types of neural network architectures are used by deep learning algorithms to solve different types of problems. Here CNN is the one of         them.\r\n",
    "\r\n",
    "\n"
   ]
  },
  {
   "cell_type": "markdown",
   "id": "8f5d3987-a5f9-4025-b7e8-d7150cd87355",
   "metadata": {},
   "source": [
    "# Business Case :-\n",
    "\n",
    "  1) Handwritten digit recognition is a critical application of image processing and machine learning, with significant business potential across            various industries.This business case explores the opportunities, benefits, and implementation strategies for leveraging handwritten digit              image processing data to drive efficiency, accuracy, and innovation.\n",
    "  2) A business case for handwritten digits image processing data lies in automating the extraction of numerical information from handwritten                documents, enabling efficient data entry and analysis in various sectors like banking (check processing), logistics (package labels), healthcare        (patient forms), and postal services (address recognition), by using machine learning models to accurately recognize handwritten digits from            scanned images, significantly reducing manual data entry time and cost while improving accuracy.\n",
    "  3) The increasing reliance on digital automation and artificial intelligence (AI) has created a growing need for handwritten digit recognition.\n",
    "  4) It's having some benefits like Increased Efficiency, Improved Accuracy, Faster Data Processing, Scalability etc.\n",
    "  5) Here we can use technologies like Convolutional Neural Networks (CNNs), Image Preprocessing, Machine Learning Algorithms.\n",
    "  6) By implementing a handwritten digit image processing system, businesses can achieve higher efficiency, accuracy, and cost savings while improving       customer service and scalability. This investment will enhance operational efficiency and provide long-term value."
   ]
  },
  {
   "cell_type": "markdown",
   "id": "9fb85cb3-0cf2-4b85-ad6d-3ed2134fa35f",
   "metadata": {},
   "source": [
    "# Domain Analysis :-\n",
    "\n",
    "  1) A domain analysis of handwritten digits image processing data reveals that it is a complex, multi-faceted dataset characterized by variations in\n",
    "     writing style, digit shape, size, and orientation, often influenced by factors like individual handwriting variations, pen pressure, and writing \n",
    "     instrument.\n",
    "  2) It making accurate classification challenging but crucial for applications like automated check processing or document digitization.\n",
    "  3) The primary focus is extracting meaningful features from these images to identify and classify digits (0-9) using techniques like convolutional \n",
    "     neural networks(CNNs) which excel at recognizing spatial patterns within images. \n",
    "  4) The key aspects of the domain analysis are image pre-processing, feature extraction, classification algorithms, dataset variations, and the impact\n",
    "     of writing style, noise, and digit segmentation on recognition accuracy. \n",
    "  5) Understanding the intricacies of handwriting variations, the importance of image pre-processing, and the strengths of deep learning techniques like\n",
    "     CNNs are crucial for developing successful handwritten digits recognition systems. \n",
    "  6) The domain analysis consider Data Preprocessing, Feature Engineering and Model Evaluation Metrics."
   ]
  },
  {
   "cell_type": "markdown",
   "id": "4c2e7adf-f4c6-4bed-8675-6f805f04e850",
   "metadata": {},
   "source": [
    "# Importing the basic libraries :-"
   ]
  },
  {
   "cell_type": "markdown",
   "id": "640acfec-cd1b-4066-b2dc-fb8c3ee86744",
   "metadata": {},
   "source": [
    "- Importing all the necessary libraries. \n",
    "- Purpose: Importing necessary libraries is the first step to ensure you have all the tools required for data \n",
    "  manipulation, visualization and machine learning.\n",
    "- pandas: For data manipulation and analysis.\n",
    "- numpy: For numerical operations.\n",
    "- seaborn and matplotlib: For data visualization.\n",
    "- sklearn: For machine learning algorithms and evaluation metrics.\n",
    "- warnings: For unexpected behaviour in their code."
   ]
  },
  {
   "cell_type": "code",
   "execution_count": 7,
   "id": "3f7b28d9-4cc5-4713-a47c-5023c69c955e",
   "metadata": {},
   "outputs": [],
   "source": [
    "import numpy as np\n",
    "import pandas as pd\n",
    "import matplotlib.pyplot as plt\n",
    "import seaborn as sns\n",
    "import warnings\n",
    "warnings.filterwarnings('ignore')"
   ]
  },
  {
   "cell_type": "markdown",
   "id": "a3ebaae5-ccf0-42be-bca7-24cd67cb6e0b",
   "metadata": {},
   "source": [
    "# Import Data :-"
   ]
  },
  {
   "cell_type": "markdown",
   "id": "13f2db39-b18d-4efb-9b56-f52ae1922cc3",
   "metadata": {},
   "source": [
    "- The MNIST database (Modified National Institute of Standards and Technology database) of handwritten digits consists of a training set of 60,000 \n",
    "  examples and a test set of 10,000 examples.\n",
    "- It is a subset of a larger set available from NIST. \n",
    "- Additionally, the black and white images from NIST were size-normalized and centered to fit into a 28x28 pixel bounding box and anti-aliased, which \n",
    "  introduced grayscale levels."
   ]
  },
  {
   "cell_type": "code",
   "execution_count": 10,
   "id": "88c0e51b-47b9-4f63-9a12-4d58ce4932b4",
   "metadata": {},
   "outputs": [],
   "source": [
    "import keras\n",
    "from tensorflow.keras.datasets import mnist\n",
    "(x_train, y_train), (x_test, y_test) = mnist.load_data()"
   ]
  },
  {
   "cell_type": "markdown",
   "id": "15760204-df01-41bd-9b3a-d74269bde463",
   "metadata": {},
   "source": [
    "Downloading data from https://storage.googleapis.com/tensorflow/tf-keras-datasets/mnist.npz\n",
    "11490434/11490434 ━━━━━━━━━━━━━━━━━━━━ 0s 0us/step\n"
   ]
  },
  {
   "cell_type": "markdown",
   "id": "77b2423d-708c-44a3-b30b-1d0c84919a68",
   "metadata": {},
   "source": [
    "# Basic Checks :-"
   ]
  },
  {
   "cell_type": "markdown",
   "id": "8daab2d0-4e05-4070-bb58-12f06c9eb816",
   "metadata": {},
   "source": [
    "### 1) Shape"
   ]
  },
  {
   "cell_type": "markdown",
   "id": "e27fad4e-6b4c-49f1-908f-d2a68247b7f0",
   "metadata": {},
   "source": [
    "- In machine learning (ML), shape refers to the dimensions of an array, matrix, or tensor, describing the number of elements along each axis.\n",
    "- It is commonly used to understand the structure of input data, model parameters, and outputs.\n",
    "- In neural networks, weight matrices and activation tensors also have specific shapes that define how data flows through the model.\n",
    "- Shape also helps in debugging ML models.\n",
    "- Shape depends on the number of neurons in the layer."
   ]
  },
  {
   "cell_type": "code",
   "execution_count": 15,
   "id": "ee2dae70-6929-417f-8e76-3844246a25b7",
   "metadata": {},
   "outputs": [
    {
     "data": {
      "text/plain": [
       "(60000, 28, 28)"
      ]
     },
     "execution_count": 15,
     "metadata": {},
     "output_type": "execute_result"
    }
   ],
   "source": [
    "x_train.shape  # 60k images\n",
    "               # 28 * 28"
   ]
  },
  {
   "cell_type": "code",
   "execution_count": 16,
   "id": "33f2f41a-69e2-4f77-b027-3c8ec79291e4",
   "metadata": {},
   "outputs": [
    {
     "data": {
      "text/plain": [
       "(60000,)"
      ]
     },
     "execution_count": 16,
     "metadata": {},
     "output_type": "execute_result"
    }
   ],
   "source": [
    "y_train.shape"
   ]
  },
  {
   "cell_type": "code",
   "execution_count": 17,
   "id": "c85f7223-d830-417c-b423-a255d326a28b",
   "metadata": {},
   "outputs": [
    {
     "data": {
      "text/plain": [
       "(10000, 28, 28)"
      ]
     },
     "execution_count": 17,
     "metadata": {},
     "output_type": "execute_result"
    }
   ],
   "source": [
    "x_test.shape"
   ]
  },
  {
   "cell_type": "code",
   "execution_count": 18,
   "id": "980aafe1-9173-4beb-bfb7-1b9e0ad433ea",
   "metadata": {},
   "outputs": [
    {
     "data": {
      "text/plain": [
       "(10000,)"
      ]
     },
     "execution_count": 18,
     "metadata": {},
     "output_type": "execute_result"
    }
   ],
   "source": [
    "y_test.shape"
   ]
  },
  {
   "cell_type": "markdown",
   "id": "11a4c086-f04e-4bf0-a3a3-aac24391ecb4",
   "metadata": {},
   "source": [
    "### 2) Datatype "
   ]
  },
  {
   "cell_type": "markdown",
   "id": "6e006939-08c7-4be1-957d-4461cb85a93b",
   "metadata": {},
   "source": [
    "- In a machine learning (ML) model, a data type refers to the format of the data used for training, inference, and computations.\n",
    "- Different data types determine how values are stored and processed in memory, impacting performance and accuracy.\n",
    "- It optimizes storage and performance.\n",
    "- Also prevents errors by restricting values.\n",
    "- Different operations apply to different types (e.g., you can't add a string to an integer directly)."
   ]
  },
  {
   "cell_type": "code",
   "execution_count": 21,
   "id": "d24dfeda-ee61-4467-afe9-5817f26f5969",
   "metadata": {},
   "outputs": [
    {
     "data": {
      "text/plain": [
       "(dtype('uint8'), dtype('uint8'))"
      ]
     },
     "execution_count": 21,
     "metadata": {},
     "output_type": "execute_result"
    }
   ],
   "source": [
    "x_train.dtype, y_train.dtype"
   ]
  },
  {
   "cell_type": "code",
   "execution_count": 22,
   "id": "dc31ad7d-9230-4de0-8ec2-5ae04bca91bd",
   "metadata": {},
   "outputs": [
    {
     "data": {
      "text/plain": [
       "(dtype('uint8'), dtype('uint8'))"
      ]
     },
     "execution_count": 22,
     "metadata": {},
     "output_type": "execute_result"
    }
   ],
   "source": [
    "x_test.dtype, y_test.dtype"
   ]
  },
  {
   "cell_type": "markdown",
   "id": "cb79c60b-5e41-4224-8dc3-fc8601ddce49",
   "metadata": {},
   "source": [
    "### 3) Checking does all digits are present"
   ]
  },
  {
   "cell_type": "markdown",
   "id": "56d8d61b-5a4b-42d9-a943-680a10dd9efb",
   "metadata": {},
   "source": [
    "- We want to check whether all digits (0-9) are present in a dataset used for an ML model."
   ]
  },
  {
   "cell_type": "code",
   "execution_count": 25,
   "id": "0889ec1c-e004-4d9b-bc93-234e780987d7",
   "metadata": {},
   "outputs": [
    {
     "name": "stdout",
     "output_type": "stream",
     "text": [
      "unique values in y_train: [0 1 2 3 4 5 6 7 8 9]\n"
     ]
    }
   ],
   "source": [
    "unique_values = np.unique(y_train)\n",
    "print(f\"unique values in y_train: {unique_values}\")"
   ]
  },
  {
   "cell_type": "markdown",
   "id": "7298e974-8b57-4858-9e8e-15d2c8115e49",
   "metadata": {},
   "source": [
    "### 4) Checking the Range of raw images pixel values"
   ]
  },
  {
   "cell_type": "markdown",
   "id": "1d95693b-f2e8-448f-83d7-0db19a3b50f4",
   "metadata": {},
   "source": [
    "- It refers to the process of determining the minimum and maximum pixel intensity values in an image dataset. \n",
    "- This helps in understanding the data distribution and ensuring proper preprocessing for machine learning models."
   ]
  },
  {
   "cell_type": "code",
   "execution_count": 28,
   "id": "fb53e215-556b-473e-9114-20aaca9beea0",
   "metadata": {},
   "outputs": [
    {
     "name": "stdout",
     "output_type": "stream",
     "text": [
      "min pixel value: 0\n",
      "max pixel value: 255\n"
     ]
    }
   ],
   "source": [
    "print(f\"min pixel value: {x_train.min()}\")\n",
    "print(f\"max pixel value: {x_train.max()}\")"
   ]
  },
  {
   "cell_type": "markdown",
   "id": "f19c649c-7a31-42c0-8804-719ed0afd532",
   "metadata": {},
   "source": [
    "##### As a raw image the range of images should be in between (0,255), Hence it is confirmed that the images pixel values are within the range."
   ]
  },
  {
   "cell_type": "markdown",
   "id": "2b688ca7-8172-4f52-91e3-e09e06b6a42f",
   "metadata": {},
   "source": [
    "### 5) Visualize the training images"
   ]
  },
  {
   "cell_type": "markdown",
   "id": "85cdad4d-6e61-4935-8c15-1340f8b7a354",
   "metadata": {},
   "source": [
    "- It is the process of displaying sample images from a dataset used for training a machine learning model.\n",
    "- This helps in understanding the quality, distribution, and preprocessing of the data before feeding it into the model.\n",
    "- It Ensures data is loaded correctly.\n",
    "- It Helps detect noise, distortions, or missing labels.\n",
    "- It also assists in understanding class distributions in classification problems."
   ]
  },
  {
   "cell_type": "code",
   "execution_count": 32,
   "id": "d47050d8-9409-49bd-9fc5-d16ae31bfb83",
   "metadata": {},
   "outputs": [
    {
     "data": {
      "image/png": "[encoded data removed]",
      "text/plain": [
       "<Figure size 2000x500 with 24 Axes>"
      ]
     },
     "metadata": {},
     "output_type": "display_data"
    }
   ],
   "source": [
    "fig = plt.figure(figsize=(20,5))\n",
    "for i in range(24):\n",
    "    ax = fig.add_subplot(3, 8, i + 1, xticks=[], yticks=[])\n",
    "    ax.imshow(x_train[i])"
   ]
  },
  {
   "cell_type": "markdown",
   "id": "519dd64b-d9a7-420e-9ae4-44a300bcfcfe",
   "metadata": {},
   "source": [
    "#### Inorder to see how the x_train looks, we have to plot a graph :-"
   ]
  },
  {
   "cell_type": "code",
   "execution_count": 34,
   "id": "ed4202c7-1d2b-4da2-90a5-d4d8b3647fe1",
   "metadata": {},
   "outputs": [
    {
     "data": {
      "image/png": "[encoded data removed]",
      "text/plain": [
       "<Figure size 1000x500 with 10 Axes>"
      ]
     },
     "metadata": {},
     "output_type": "display_data"
    }
   ],
   "source": [
    "fig, axes = plt.subplots(2,5, figsize=(10,5))\n",
    "for i, ax in enumerate(axes.flat):\n",
    "  ax.imshow(x_train[i], cmap=\"gray\" )\n",
    "  ax.set_title(f\"Label: {y_train[i]}\")\n",
    "  ax.axis(\"off\")\n",
    "plt.show()"
   ]
  },
  {
   "cell_type": "markdown",
   "id": "eb8af0d5-a28a-4d6e-b673-1d39d688699f",
   "metadata": {},
   "source": [
    "x_train consists all the images. "
   ]
  },
  {
   "cell_type": "markdown",
   "id": "8777ae28-b231-48d7-bdbe-b6f6506fc996",
   "metadata": {},
   "source": [
    "#### Inorder to see how the Y_train looks :-"
   ]
  },
  {
   "cell_type": "code",
   "execution_count": 37,
   "id": "11419300-0683-490c-b979-fdf6d5717a7a",
   "metadata": {},
   "outputs": [
    {
     "name": "stdout",
     "output_type": "stream",
     "text": [
      "first 10 rows of y_train:-\n",
      "[5 0 4 1 9 2 1 3 1 4]\n"
     ]
    }
   ],
   "source": [
    "print(\"first 10 rows of y_train:-\")\n",
    "print(y_train[:10])"
   ]
  },
  {
   "cell_type": "markdown",
   "id": "3aff32ab-3ed9-469b-bfcc-165a06d71eeb",
   "metadata": {},
   "source": [
    "y_train consists the actual digits."
   ]
  },
  {
   "cell_type": "markdown",
   "id": "c874f8aa-88d5-41d7-86b4-7c2d9623187f",
   "metadata": {},
   "source": [
    "# Exploratory data Analysis(EDA) :-"
   ]
  },
  {
   "cell_type": "markdown",
   "id": "cc216c9e-32ec-43f5-8863-a334cd5b1079",
   "metadata": {},
   "source": [
    "- Exploratory Data Analysis (EDA) is the process of analyzing and visualizing datasets to understand their characteristics, detect patterns, and          identify potential issues before applying machine learning models.\n",
    "- It helps in making data-driven decisions for feature engineering, model selection, and preprocessing.\n",
    "- Detects anomalies and errors before model training.\n",
    "- Identifies relationships between features for better model accuracy.\n",
    "- Reduces dimensionality by selecting meaningful features.\n",
    "- Helps in choosing the right ML algorithm based on data patterns."
   ]
  },
  {
   "cell_type": "markdown",
   "id": "9fca0764-cce7-4fad-a8d1-41e738e852e6",
   "metadata": {},
   "source": [
    "### 1) Check the class distribution"
   ]
  },
  {
   "cell_type": "markdown",
   "id": "af284803-49e4-451c-a0d7-3695e4bc8e0c",
   "metadata": {},
   "source": [
    "- Checking the class distribution in a handwritten image recognition dataset refers to analyzing the number of samples available for each digit or character class (e.g., 0-9 for digits or A-Z for letters).\n",
    "- This ensures that the dataset is balanced and helps prevent bias in the machine learning model."
   ]
  },
  {
   "cell_type": "code",
   "execution_count": 43,
   "id": "43012563-0e4b-41a8-97b8-5d812dc9d87a",
   "metadata": {},
   "outputs": [
    {
     "data": {
      "image/png": "[encoded data removed]",
      "text/plain": [
       "<Figure size 640x480 with 1 Axes>"
      ]
     },
     "metadata": {},
     "output_type": "display_data"
    }
   ],
   "source": [
    "sns.countplot(x=y_train)\n",
    "plt.title(\"Class Distribution in y_train\")\n",
    "plt.xlabel(\"Digit classes\")\n",
    "plt.ylabel(\"count\")\n",
    "plt.show()"
   ]
  },
  {
   "cell_type": "markdown",
   "id": "90a1f9a3-d7d6-4b91-989f-501d2e441dcd",
   "metadata": {},
   "source": [
    "### 2) To be little more precised"
   ]
  },
  {
   "cell_type": "markdown",
   "id": "da86b301-b91f-4f30-aaed-29369dff8e1c",
   "metadata": {},
   "source": [
    "- It is used to check the class distribution of labels in a dataset. \n",
    "- Identifies the number of samples for each class in a dataset.\n",
    "- It helps detect class imbalances in classification tasks, such as handwritten image recognition."
   ]
  },
  {
   "cell_type": "code",
   "execution_count": 46,
   "id": "fbcc789f-3b9b-45eb-afbb-cf0cd025a90e",
   "metadata": {},
   "outputs": [
    {
     "name": "stdout",
     "output_type": "stream",
     "text": [
      "1    6742\n",
      "7    6265\n",
      "3    6131\n",
      "2    5958\n",
      "9    5949\n",
      "0    5923\n",
      "6    5918\n",
      "8    5851\n",
      "4    5842\n",
      "5    5421\n",
      "Name: count, dtype: int64\n"
     ]
    }
   ],
   "source": [
    "value_counts = pd.Series(y_train).value_counts()\n",
    "print(value_counts)"
   ]
  },
  {
   "cell_type": "markdown",
   "id": "256c5486-fd0f-4e47-ac56-e5593c49cd0e",
   "metadata": {},
   "source": [
    "##### Since all classes have counts between 5,421 and 6,742, the dataset is not heavily imbalanced. Hence we confirmed that it is a balanced dataset."
   ]
  },
  {
   "cell_type": "markdown",
   "id": "8af670cd-476e-4cb5-8dfa-235e22bbca16",
   "metadata": {},
   "source": [
    "# Data preprocessing :-"
   ]
  },
  {
   "cell_type": "markdown",
   "id": "bb134c19-33e2-43ec-9643-955a8efba4ea",
   "metadata": {},
   "source": [
    "- Data preprocessing in handwritten image recognition refers to the techniques used to clean, transform, and standardize handwritten image data before feeding it into a machine learning model.\n",
    "- This process ensures that the model receives properly formatted and optimized input for accurate digit or character recognition.\n",
    "- It ensures that the data is consistent, free of errors, and optimized for better model performance.    "
   ]
  },
  {
   "cell_type": "markdown",
   "id": "10782182-2927-4da3-92a5-646c86557e48",
   "metadata": {},
   "source": [
    "### 1) Checking for missing and corrupted images"
   ]
  },
  {
   "cell_type": "markdown",
   "id": "8c5e2437-d5ca-4cfc-9a76-a8aef3408af4",
   "metadata": {},
   "source": [
    "- In the context of handwritten image recognition, ensuring the integrity of image datasets is crucial for accurate model training and evaluation.\n",
    "- Missing or corrupted images can introduce noise, bias, and errors in the learning process."
   ]
  },
  {
   "cell_type": "code",
   "execution_count": 52,
   "id": "2e962ce3-f772-420e-b2e7-4dea96a4f23f",
   "metadata": {},
   "outputs": [
    {
     "name": "stdout",
     "output_type": "stream",
     "text": [
      "Missing values in x_train: 0\n",
      "Missing values in y_train: 0\n"
     ]
    }
   ],
   "source": [
    "print(f\"Missing values in x_train: {np.isnan(x_train).sum()}\")\n",
    "print(f\"Missing values in y_train: {np.isnan(y_train).sum()}\")"
   ]
  },
  {
   "cell_type": "markdown",
   "id": "70a81958-8ab0-481a-bd70-cc80af198f3b",
   "metadata": {},
   "source": [
    "##### There is no missing value"
   ]
  },
  {
   "cell_type": "markdown",
   "id": "dc43100c-5f60-44ef-a128-6fa347cbf063",
   "metadata": {},
   "source": [
    "### 2) Checking Image pixel intensity Distribution"
   ]
  },
  {
   "cell_type": "markdown",
   "id": "6ba59ef4-8e6d-4712-a8ee-4655a26a61d4",
   "metadata": {},
   "source": [
    "- Pixel intensity distribution analysis helps evaluate the quality and consistency of handwritten image datasets. \n",
    "- This process ensures that images have appropriate contrast, brightness, and variations necessary for effective recognition.\n",
    "- Missing or corrupted images can introduce noise, bias, and errors in the learning process.\n",
    "- Handwritten image recognition, ensuring the integrity of image datasets is crucial for accurate model training and evaluation."
   ]
  },
  {
   "cell_type": "code",
   "execution_count": 56,
   "id": "ab34a230-e758-407b-a7ac-89444037d103",
   "metadata": {},
   "outputs": [
    {
     "data": {
      "image/png": "[encoded data removed]",
      "text/plain": [
       "<Figure size 640x480 with 1 Axes>"
      ]
     },
     "metadata": {},
     "output_type": "display_data"
    }
   ],
   "source": [
    "plt.hist(x_train.flatten(), bins=50, color=\"blue\", alpha=0.7)\n",
    "plt.xlabel(\"Pixel Intensity(0-255)\")\n",
    "plt.ylabel(\"frequency\")\n",
    "plt.title(\"Pixel Intensity Distribution\")\n",
    "plt.show()"
   ]
  },
  {
   "cell_type": "markdown",
   "id": "ac5b4b72-671b-4e80-83e0-d8dd153fcf65",
   "metadata": {},
   "source": [
    "##### This histogram is showing that most pixel values are closer to 0 (black) or 255 (white) with fewer gray values in between. Hence it indicates clearly that we can do Normalization easily."
   ]
  },
  {
   "cell_type": "markdown",
   "id": "1e6c870c-499c-4d31-baff-b4413af137d7",
   "metadata": {},
   "source": [
    "### 3) Normalization(We do normalization only on input columns)"
   ]
  },
  {
   "cell_type": "markdown",
   "id": "2db98c65-ddf9-4b26-8e09-dd23691d7728",
   "metadata": {},
   "source": [
    "- Normalization is a preprocessing step in handwritten image recognition that standardizes pixel values across images to improve model training and convergence.\n",
    "- It helps reduce variations in lighting, contrast, and stroke intensity, making the recognition system more robust.\n",
    "- It adjusts pixel intensity levels to a common scale, reducing variations caused by lighting, contrast, or writing styles."
   ]
  },
  {
   "cell_type": "code",
   "execution_count": 60,
   "id": "a9718f9b-0d26-47d3-acb9-d53c71a1ff30",
   "metadata": {},
   "outputs": [],
   "source": [
    "x_train = x_train/255.0\n",
    "x_test = x_test/255.0"
   ]
  },
  {
   "cell_type": "markdown",
   "id": "f4ee7ea8-f43e-4af2-9ff7-50ba26302b2a",
   "metadata": {},
   "source": [
    "#### Let's check is it normalize or not"
   ]
  },
  {
   "cell_type": "code",
   "execution_count": 62,
   "id": "09ac5d96-988c-4059-b156-c47a2901b2ea",
   "metadata": {},
   "outputs": [
    {
     "name": "stdout",
     "output_type": "stream",
     "text": [
      "min pixel value: 0.0\n",
      "max pixel value: 1.0\n"
     ]
    }
   ],
   "source": [
    "print(f\"min pixel value: {x_train.min()}\")\n",
    "print(f\"max pixel value: {x_train.max()}\")"
   ]
  },
  {
   "cell_type": "markdown",
   "id": "fb85614d-cd52-4a3b-a82b-70dc62d8a16b",
   "metadata": {},
   "source": [
    "##### Yes our values are in between (0,1) , which means it is normalized."
   ]
  },
  {
   "cell_type": "markdown",
   "id": "c3753788-385b-4b04-9f55-a29148b9ed25",
   "metadata": {},
   "source": [
    "### 4) Reshape(We do reshape only on input columns)"
   ]
  },
  {
   "cell_type": "markdown",
   "id": "d63e07b5-9629-40a8-ba10-b6f3e1325f7f",
   "metadata": {},
   "source": [
    "- Reshaping in handwritten image recognition refers to the process of changing the dimensions of an image or its corresponding data representation to match the input format required by a machine learning model."
   ]
  },
  {
   "cell_type": "code",
   "execution_count": 66,
   "id": "0f720b2b-0e48-464a-a44d-41f05362198e",
   "metadata": {},
   "outputs": [],
   "source": [
    "x_train = x_train.reshape(-1, 28, 28, 1)\n",
    "x_test = x_test.reshape(-1, 28, 28, 1)"
   ]
  },
  {
   "cell_type": "markdown",
   "id": "fda053d9-f558-4e3c-8cb9-718e5549b3f0",
   "metadata": {},
   "source": [
    "#### Let's check is it reshaped or not"
   ]
  },
  {
   "cell_type": "code",
   "execution_count": 68,
   "id": "22c301c1-55f6-40b5-b580-4b45582d6e9c",
   "metadata": {},
   "outputs": [
    {
     "name": "stdout",
     "output_type": "stream",
     "text": [
      "(60000, 28, 28, 1)\n",
      "(10000, 28, 28, 1)\n"
     ]
    }
   ],
   "source": [
    "print(x_train.shape)\n",
    "print(x_test.shape)"
   ]
  },
  {
   "cell_type": "markdown",
   "id": "14084af1-ff5e-4376-a838-f577c4e33d64",
   "metadata": {},
   "source": [
    "##### As it clearly shows that we got the 4th dimension as 1, Hence it confirmed that it is successfully Reshaped.\n"
   ]
  },
  {
   "cell_type": "markdown",
   "id": "3e938f7d-72ae-4b91-bacf-7669ca2b3e4a",
   "metadata": {},
   "source": [
    "### 5) Apply One-Hot Encoding"
   ]
  },
  {
   "cell_type": "markdown",
   "id": "d4d2fc7f-eba5-4a32-8c64-9a9d690d560f",
   "metadata": {},
   "source": [
    "##### We will apply encoding only on output column, because the output column only consists digits as we convert digits to categorical."
   ]
  },
  {
   "cell_type": "markdown",
   "id": "f810789d-a612-465f-baf0-0c41ea535d10",
   "metadata": {},
   "source": [
    "- One-hot encoding is a technique used to convert categorical labels into a numerical format that can be understood by machine learning models.\n",
    "- In handwritten image recognition, it is commonly used to represent class labels (digits, letters, or symbols) in a structured binary format.\n",
    "- Most machine learning models cannot directly process categorical labels, transforms these labels into a numerical format that prevents models from interpreting them as ordinal values"
   ]
  },
  {
   "cell_type": "code",
   "execution_count": 73,
   "id": "2067d824-fbb6-4ae2-8f69-4af62a976942",
   "metadata": {},
   "outputs": [],
   "source": [
    "from tensorflow.keras.utils import to_categorical"
   ]
  },
  {
   "cell_type": "code",
   "execution_count": 74,
   "id": "7b47c30d-244f-46e0-8588-847449fe3bf1",
   "metadata": {},
   "outputs": [],
   "source": [
    "y_train = to_categorical(y_train)\n",
    "y_test = to_categorical(y_test)"
   ]
  },
  {
   "cell_type": "markdown",
   "id": "44e08d12-2131-4339-851e-7d74004e9287",
   "metadata": {},
   "source": [
    "#### Let's check is it converted or not"
   ]
  },
  {
   "cell_type": "code",
   "execution_count": 76,
   "id": "3c2dc79f-c37d-4f59-a608-2edb58c71afb",
   "metadata": {},
   "outputs": [
    {
     "name": "stdout",
     "output_type": "stream",
     "text": [
      "unique labels in y_train: [0. 1.]\n"
     ]
    }
   ],
   "source": [
    "print(\"unique labels in y_train:\", np.unique(y_train))"
   ]
  },
  {
   "cell_type": "markdown",
   "id": "df0ae8de-1ef5-48f3-b1ec-740b05dec78d",
   "metadata": {},
   "source": [
    "##### As we clearly see it is converted to (0,1) . Hence converting digit to categorical is Successfull.\n",
    "\n"
   ]
  },
  {
   "cell_type": "markdown",
   "id": "8e5b7e28-7ee0-409d-ab45-28a03fbd3c3c",
   "metadata": {},
   "source": [
    "# Model Creation/ Define the Model Architecture :-"
   ]
  },
  {
   "cell_type": "markdown",
   "id": "0ea0bcb4-0225-49b7-a0b0-007917055d6a",
   "metadata": {},
   "source": [
    "- Building a model for handwritten image recognition involves defining a deep learning architecture capable of extracting meaningful features from images and classifying them accurately.\n",
    "- Convolutional Neural Networks (CNNs) are the most effective models for this handwritten image recognition.\n",
    "- Model architecture in handwritten image recognition refers to the structured design of a deep learning model that processes handwritten images, extracts meaningful features, and classifies them into different categories "
   ]
  },
  {
   "cell_type": "code",
   "execution_count": 80,
   "id": "43315fbd-e24b-4a54-86d4-aa233bb4f22a",
   "metadata": {},
   "outputs": [
    {
     "data": {
      "text/html": [
       "<pre style=\"white-space:pre;overflow-x:auto;line-height:normal;font-family:Menlo,'DejaVu Sans Mono',consolas,'Courier New',monospace\"><span style=\"font-weight: bold\">Model: \"sequential\"</span>\n",
       "</pre>\n"
      ],
      "text/plain": [
       "\u001b[1mModel: \"sequential\"\u001b[0m\n"
      ]
     },
     "metadata": {},
     "output_type": "display_data"
    },
    {
     "data": {
      "text/html": [
       "<pre style=\"white-space:pre;overflow-x:auto;line-height:normal;font-family:Menlo,'DejaVu Sans Mono',consolas,'Courier New',monospace\">┏━━━━━━━━━━━━━━━━━━━━━━━━━━━━━━━━━━━━━━┳━━━━━━━━━━━━━━━━━━━━━━━━━━━━━┳━━━━━━━━━━━━━━━━━┓\n",
       "┃<span style=\"font-weight: bold\"> Layer (type)                         </span>┃<span style=\"font-weight: bold\"> Output Shape                </span>┃<span style=\"font-weight: bold\">         Param # </span>┃\n",
       "┡━━━━━━━━━━━━━━━━━━━━━━━━━━━━━━━━━━━━━━╇━━━━━━━━━━━━━━━━━━━━━━━━━━━━━╇━━━━━━━━━━━━━━━━━┩\n",
       "│ conv2d (<span style=\"color: #0087ff; text-decoration-color: #0087ff\">Conv2D</span>)                      │ (<span style=\"color: #00d7ff; text-decoration-color: #00d7ff\">None</span>, <span style=\"color: #00af00; text-decoration-color: #00af00\">26</span>, <span style=\"color: #00af00; text-decoration-color: #00af00\">26</span>, <span style=\"color: #00af00; text-decoration-color: #00af00\">32</span>)          │             <span style=\"color: #00af00; text-decoration-color: #00af00\">320</span> │\n",
       "├──────────────────────────────────────┼─────────────────────────────┼─────────────────┤\n",
       "│ max_pooling2d (<span style=\"color: #0087ff; text-decoration-color: #0087ff\">MaxPooling2D</span>)         │ (<span style=\"color: #00d7ff; text-decoration-color: #00d7ff\">None</span>, <span style=\"color: #00af00; text-decoration-color: #00af00\">13</span>, <span style=\"color: #00af00; text-decoration-color: #00af00\">13</span>, <span style=\"color: #00af00; text-decoration-color: #00af00\">32</span>)          │               <span style=\"color: #00af00; text-decoration-color: #00af00\">0</span> │\n",
       "├──────────────────────────────────────┼─────────────────────────────┼─────────────────┤\n",
       "│ conv2d_1 (<span style=\"color: #0087ff; text-decoration-color: #0087ff\">Conv2D</span>)                    │ (<span style=\"color: #00d7ff; text-decoration-color: #00d7ff\">None</span>, <span style=\"color: #00af00; text-decoration-color: #00af00\">11</span>, <span style=\"color: #00af00; text-decoration-color: #00af00\">11</span>, <span style=\"color: #00af00; text-decoration-color: #00af00\">64</span>)          │          <span style=\"color: #00af00; text-decoration-color: #00af00\">18,496</span> │\n",
       "├──────────────────────────────────────┼─────────────────────────────┼─────────────────┤\n",
       "│ max_pooling2d_1 (<span style=\"color: #0087ff; text-decoration-color: #0087ff\">MaxPooling2D</span>)       │ (<span style=\"color: #00d7ff; text-decoration-color: #00d7ff\">None</span>, <span style=\"color: #00af00; text-decoration-color: #00af00\">5</span>, <span style=\"color: #00af00; text-decoration-color: #00af00\">5</span>, <span style=\"color: #00af00; text-decoration-color: #00af00\">64</span>)            │               <span style=\"color: #00af00; text-decoration-color: #00af00\">0</span> │\n",
       "├──────────────────────────────────────┼─────────────────────────────┼─────────────────┤\n",
       "│ conv2d_2 (<span style=\"color: #0087ff; text-decoration-color: #0087ff\">Conv2D</span>)                    │ (<span style=\"color: #00d7ff; text-decoration-color: #00d7ff\">None</span>, <span style=\"color: #00af00; text-decoration-color: #00af00\">3</span>, <span style=\"color: #00af00; text-decoration-color: #00af00\">3</span>, <span style=\"color: #00af00; text-decoration-color: #00af00\">128</span>)           │          <span style=\"color: #00af00; text-decoration-color: #00af00\">73,856</span> │\n",
       "├──────────────────────────────────────┼─────────────────────────────┼─────────────────┤\n",
       "│ flatten (<span style=\"color: #0087ff; text-decoration-color: #0087ff\">Flatten</span>)                    │ (<span style=\"color: #00d7ff; text-decoration-color: #00d7ff\">None</span>, <span style=\"color: #00af00; text-decoration-color: #00af00\">1152</span>)                │               <span style=\"color: #00af00; text-decoration-color: #00af00\">0</span> │\n",
       "├──────────────────────────────────────┼─────────────────────────────┼─────────────────┤\n",
       "│ dense (<span style=\"color: #0087ff; text-decoration-color: #0087ff\">Dense</span>)                        │ (<span style=\"color: #00d7ff; text-decoration-color: #00d7ff\">None</span>, <span style=\"color: #00af00; text-decoration-color: #00af00\">128</span>)                 │         <span style=\"color: #00af00; text-decoration-color: #00af00\">147,584</span> │\n",
       "├──────────────────────────────────────┼─────────────────────────────┼─────────────────┤\n",
       "│ dropout (<span style=\"color: #0087ff; text-decoration-color: #0087ff\">Dropout</span>)                    │ (<span style=\"color: #00d7ff; text-decoration-color: #00d7ff\">None</span>, <span style=\"color: #00af00; text-decoration-color: #00af00\">128</span>)                 │               <span style=\"color: #00af00; text-decoration-color: #00af00\">0</span> │\n",
       "├──────────────────────────────────────┼─────────────────────────────┼─────────────────┤\n",
       "│ dense_1 (<span style=\"color: #0087ff; text-decoration-color: #0087ff\">Dense</span>)                      │ (<span style=\"color: #00d7ff; text-decoration-color: #00d7ff\">None</span>, <span style=\"color: #00af00; text-decoration-color: #00af00\">10</span>)                  │           <span style=\"color: #00af00; text-decoration-color: #00af00\">1,290</span> │\n",
       "└──────────────────────────────────────┴─────────────────────────────┴─────────────────┘\n",
       "</pre>\n"
      ],
      "text/plain": [
       "┏━━━━━━━━━━━━━━━━━━━━━━━━━━━━━━━━━━━━━━┳━━━━━━━━━━━━━━━━━━━━━━━━━━━━━┳━━━━━━━━━━━━━━━━━┓\n",
       "┃\u001b[1m \u001b[0m\u001b[1mLayer (type)                        \u001b[0m\u001b[1m \u001b[0m┃\u001b[1m \u001b[0m\u001b[1mOutput Shape               \u001b[0m\u001b[1m \u001b[0m┃\u001b[1m \u001b[0m\u001b[1m        Param #\u001b[0m\u001b[1m \u001b[0m┃\n",
       "┡━━━━━━━━━━━━━━━━━━━━━━━━━━━━━━━━━━━━━━╇━━━━━━━━━━━━━━━━━━━━━━━━━━━━━╇━━━━━━━━━━━━━━━━━┩\n",
       "│ conv2d (\u001b[38;5;33mConv2D\u001b[0m)                      │ (\u001b[38;5;45mNone\u001b[0m, \u001b[38;5;34m26\u001b[0m, \u001b[38;5;34m26\u001b[0m, \u001b[38;5;34m32\u001b[0m)          │             \u001b[38;5;34m320\u001b[0m │\n",
       "├──────────────────────────────────────┼─────────────────────────────┼─────────────────┤\n",
       "│ max_pooling2d (\u001b[38;5;33mMaxPooling2D\u001b[0m)         │ (\u001b[38;5;45mNone\u001b[0m, \u001b[38;5;34m13\u001b[0m, \u001b[38;5;34m13\u001b[0m, \u001b[38;5;34m32\u001b[0m)          │               \u001b[38;5;34m0\u001b[0m │\n",
       "├──────────────────────────────────────┼─────────────────────────────┼─────────────────┤\n",
       "│ conv2d_1 (\u001b[38;5;33mConv2D\u001b[0m)                    │ (\u001b[38;5;45mNone\u001b[0m, \u001b[38;5;34m11\u001b[0m, \u001b[38;5;34m11\u001b[0m, \u001b[38;5;34m64\u001b[0m)          │          \u001b[38;5;34m18,496\u001b[0m │\n",
       "├──────────────────────────────────────┼─────────────────────────────┼─────────────────┤\n",
       "│ max_pooling2d_1 (\u001b[38;5;33mMaxPooling2D\u001b[0m)       │ (\u001b[38;5;45mNone\u001b[0m, \u001b[38;5;34m5\u001b[0m, \u001b[38;5;34m5\u001b[0m, \u001b[38;5;34m64\u001b[0m)            │               \u001b[38;5;34m0\u001b[0m │\n",
       "├──────────────────────────────────────┼─────────────────────────────┼─────────────────┤\n",
       "│ conv2d_2 (\u001b[38;5;33mConv2D\u001b[0m)                    │ (\u001b[38;5;45mNone\u001b[0m, \u001b[38;5;34m3\u001b[0m, \u001b[38;5;34m3\u001b[0m, \u001b[38;5;34m128\u001b[0m)           │          \u001b[38;5;34m73,856\u001b[0m │\n",
       "├──────────────────────────────────────┼─────────────────────────────┼─────────────────┤\n",
       "│ flatten (\u001b[38;5;33mFlatten\u001b[0m)                    │ (\u001b[38;5;45mNone\u001b[0m, \u001b[38;5;34m1152\u001b[0m)                │               \u001b[38;5;34m0\u001b[0m │\n",
       "├──────────────────────────────────────┼─────────────────────────────┼─────────────────┤\n",
       "│ dense (\u001b[38;5;33mDense\u001b[0m)                        │ (\u001b[38;5;45mNone\u001b[0m, \u001b[38;5;34m128\u001b[0m)                 │         \u001b[38;5;34m147,584\u001b[0m │\n",
       "├──────────────────────────────────────┼─────────────────────────────┼─────────────────┤\n",
       "│ dropout (\u001b[38;5;33mDropout\u001b[0m)                    │ (\u001b[38;5;45mNone\u001b[0m, \u001b[38;5;34m128\u001b[0m)                 │               \u001b[38;5;34m0\u001b[0m │\n",
       "├──────────────────────────────────────┼─────────────────────────────┼─────────────────┤\n",
       "│ dense_1 (\u001b[38;5;33mDense\u001b[0m)                      │ (\u001b[38;5;45mNone\u001b[0m, \u001b[38;5;34m10\u001b[0m)                  │           \u001b[38;5;34m1,290\u001b[0m │\n",
       "└──────────────────────────────────────┴─────────────────────────────┴─────────────────┘\n"
      ]
     },
     "metadata": {},
     "output_type": "display_data"
    },
    {
     "data": {
      "text/html": [
       "<pre style=\"white-space:pre;overflow-x:auto;line-height:normal;font-family:Menlo,'DejaVu Sans Mono',consolas,'Courier New',monospace\"><span style=\"font-weight: bold\"> Total params: </span><span style=\"color: #00af00; text-decoration-color: #00af00\">241,546</span> (943.54 KB)\n",
       "</pre>\n"
      ],
      "text/plain": [
       "\u001b[1m Total params: \u001b[0m\u001b[38;5;34m241,546\u001b[0m (943.54 KB)\n"
      ]
     },
     "metadata": {},
     "output_type": "display_data"
    },
    {
     "data": {
      "text/html": [
       "<pre style=\"white-space:pre;overflow-x:auto;line-height:normal;font-family:Menlo,'DejaVu Sans Mono',consolas,'Courier New',monospace\"><span style=\"font-weight: bold\"> Trainable params: </span><span style=\"color: #00af00; text-decoration-color: #00af00\">241,546</span> (943.54 KB)\n",
       "</pre>\n"
      ],
      "text/plain": [
       "\u001b[1m Trainable params: \u001b[0m\u001b[38;5;34m241,546\u001b[0m (943.54 KB)\n"
      ]
     },
     "metadata": {},
     "output_type": "display_data"
    },
    {
     "data": {
      "text/html": [
       "<pre style=\"white-space:pre;overflow-x:auto;line-height:normal;font-family:Menlo,'DejaVu Sans Mono',consolas,'Courier New',monospace\"><span style=\"font-weight: bold\"> Non-trainable params: </span><span style=\"color: #00af00; text-decoration-color: #00af00\">0</span> (0.00 B)\n",
       "</pre>\n"
      ],
      "text/plain": [
       "\u001b[1m Non-trainable params: \u001b[0m\u001b[38;5;34m0\u001b[0m (0.00 B)\n"
      ]
     },
     "metadata": {},
     "output_type": "display_data"
    }
   ],
   "source": [
    "from tensorflow.keras.models import Sequential\n",
    "from tensorflow.keras.layers import Conv2D, MaxPooling2D, Flatten, Dense, Dropout\n",
    "\n",
    "model = Sequential()\n",
    "model.add(Conv2D(32, (3, 3), activation=\"relu\", input_shape=(28, 28, 1)))             # first Convulational layer\n",
    "model.add(MaxPooling2D((2, 2)))\n",
    "model.add(Conv2D(64, (3, 3), activation=\"relu\"))\n",
    "model.add(MaxPooling2D((2, 2)))\n",
    "model.add(Conv2D(128, (3, 3), activation=\"relu\"))\n",
    "model.add(Flatten())                                                                  # flatten the image\n",
    "model.add(Dense(128, activation=\"relu\"))                                              # connecting to fully connected layers\n",
    "model.add(Dropout(0.2))                                                               # to prevent Overfiiting, we have used Dropout\n",
    "model.add(Dense(10, activation=\"softmax\"))                                            # output layer, we have used softmax for multi-class classification\n",
    "model.summary()                                                                       # to get the summary of the model"
   ]
  },
  {
   "cell_type": "markdown",
   "id": "ad06ddec-1831-4dcd-a287-651ab814733c",
   "metadata": {},
   "source": [
    "##### Configuring the model for training by defining :- Optimizer, Loss function, Evaluation Metrics"
   ]
  },
  {
   "cell_type": "markdown",
   "id": "422c4442-59cc-4972-8172-bbf3cee4e620",
   "metadata": {},
   "source": [
    "##### a) Optimizer- It is an algorithm which is used to adjust the parameters (weights) of a model to minimize the error (or loss) during training.\n",
    "##### b) Loss function- It is a mathematical function that measures how well a machine learning model’s predictions match the actual values.The goal of \n",
    "#####    training a model is to minimize this loss function.\n",
    "##### c) Evaluation Metrics- used to measure how well a machine learning model is performing. They help compare models, fine-tune them , and ensure they\n",
    "#####    generalize well to new data.\n"
   ]
  },
  {
   "cell_type": "markdown",
   "id": "0fdce09f-fadd-4483-b962-9ff9f5da59b6",
   "metadata": {},
   "source": [
    "### 1)  Compiling the Model"
   ]
  },
  {
   "cell_type": "markdown",
   "id": "f5182445-7b54-414b-adb2-965bd3c116fa",
   "metadata": {},
   "source": [
    "- Compiling a model in handwritten image recognition refers to the process of configuring the learning process by specifying the optimizer, loss function, and evaluation metrics before training.\n",
    "- This step prepares the neural network to learn patterns from handwritten images."
   ]
  },
  {
   "cell_type": "code",
   "execution_count": 85,
   "id": "eeb30d52-d9e2-4e5a-bb25-04655c29da4c",
   "metadata": {},
   "outputs": [],
   "source": [
    "model.compile(optimizer=\"adam\", loss=\"categorical_crossentropy\", metrics=[\"accuracy\"])"
   ]
  },
  {
   "cell_type": "markdown",
   "id": "38572727-1389-4063-bc2e-20873bd3a0c2",
   "metadata": {},
   "source": [
    "### 2) Train the Model"
   ]
  },
  {
   "cell_type": "markdown",
   "id": "365e004c-4e49-49f7-b79b-e9e8e74fa657",
   "metadata": {},
   "source": [
    "- Training the model in handwritten image recognition refers to the process of feeding labeled handwritten image data into a neural network so it can learn patterns and improve its ability to classify new handwriting samples. \n",
    "- This is done through multiple iterations where the model adjusts its internal parameters (weights and biases) to minimize errors and improve accuracy."
   ]
  },
  {
   "cell_type": "code",
   "execution_count": 88,
   "id": "734efa7d-0112-4f83-8e9f-8842dcac04d4",
   "metadata": {},
   "outputs": [
    {
     "name": "stdout",
     "output_type": "stream",
     "text": [
      "Epoch 1/10\n",
      "\u001b[1m469/469\u001b[0m \u001b[32m━━━━━━━━━━━━━━━━━━━━\u001b[0m\u001b[37m\u001b[0m \u001b[1m36s\u001b[0m 65ms/step - accuracy: 0.8437 - loss: 0.5020 - val_accuracy: 0.9850 - val_loss: 0.0484\n",
      "Epoch 2/10\n",
      "\u001b[1m469/469\u001b[0m \u001b[32m━━━━━━━━━━━━━━━━━━━━\u001b[0m\u001b[37m\u001b[0m \u001b[1m30s\u001b[0m 64ms/step - accuracy: 0.9812 - loss: 0.0616 - val_accuracy: 0.9902 - val_loss: 0.0311\n",
      "Epoch 3/10\n",
      "\u001b[1m469/469\u001b[0m \u001b[32m━━━━━━━━━━━━━━━━━━━━\u001b[0m\u001b[37m\u001b[0m \u001b[1m29s\u001b[0m 61ms/step - accuracy: 0.9884 - loss: 0.0366 - val_accuracy: 0.9933 - val_loss: 0.0218\n",
      "Epoch 4/10\n",
      "\u001b[1m469/469\u001b[0m \u001b[32m━━━━━━━━━━━━━━━━━━━━\u001b[0m\u001b[37m\u001b[0m \u001b[1m30s\u001b[0m 64ms/step - accuracy: 0.9909 - loss: 0.0285 - val_accuracy: 0.9948 - val_loss: 0.0177\n",
      "Epoch 5/10\n",
      "\u001b[1m469/469\u001b[0m \u001b[32m━━━━━━━━━━━━━━━━━━━━\u001b[0m\u001b[37m\u001b[0m \u001b[1m31s\u001b[0m 65ms/step - accuracy: 0.9912 - loss: 0.0271 - val_accuracy: 0.9959 - val_loss: 0.0131\n",
      "Epoch 6/10\n",
      "\u001b[1m469/469\u001b[0m \u001b[32m━━━━━━━━━━━━━━━━━━━━\u001b[0m\u001b[37m\u001b[0m \u001b[1m30s\u001b[0m 64ms/step - accuracy: 0.9935 - loss: 0.0196 - val_accuracy: 0.9964 - val_loss: 0.0117\n",
      "Epoch 7/10\n",
      "\u001b[1m469/469\u001b[0m \u001b[32m━━━━━━━━━━━━━━━━━━━━\u001b[0m\u001b[37m\u001b[0m \u001b[1m29s\u001b[0m 62ms/step - accuracy: 0.9953 - loss: 0.0149 - val_accuracy: 0.9970 - val_loss: 0.0098\n",
      "Epoch 8/10\n",
      "\u001b[1m469/469\u001b[0m \u001b[32m━━━━━━━━━━━━━━━━━━━━\u001b[0m\u001b[37m\u001b[0m \u001b[1m29s\u001b[0m 61ms/step - accuracy: 0.9959 - loss: 0.0121 - val_accuracy: 0.9975 - val_loss: 0.0082\n",
      "Epoch 9/10\n",
      "\u001b[1m469/469\u001b[0m \u001b[32m━━━━━━━━━━━━━━━━━━━━\u001b[0m\u001b[37m\u001b[0m \u001b[1m32s\u001b[0m 69ms/step - accuracy: 0.9957 - loss: 0.0125 - val_accuracy: 0.9984 - val_loss: 0.0049\n",
      "Epoch 10/10\n",
      "\u001b[1m469/469\u001b[0m \u001b[32m━━━━━━━━━━━━━━━━━━━━\u001b[0m\u001b[37m\u001b[0m \u001b[1m32s\u001b[0m 68ms/step - accuracy: 0.9965 - loss: 0.0106 - val_accuracy: 0.9981 - val_loss: 0.0062\n"
     ]
    },
    {
     "data": {
      "text/plain": [
       "<keras.src.callbacks.history.History at 0x1acbabbd9a0>"
      ]
     },
     "execution_count": 88,
     "metadata": {},
     "output_type": "execute_result"
    }
   ],
   "source": [
    "model.fit(x_train, y_train, epochs=10, batch_size=128, validation_data= (x_train, y_train))"
   ]
  },
  {
   "cell_type": "markdown",
   "id": "951c6619-fbaa-4d15-a9a5-21194ce90716",
   "metadata": {},
   "source": [
    "# Model Evaluation :-"
   ]
  },
  {
   "cell_type": "markdown",
   "id": "727bbb36-79ab-4938-9848-f6d26d48328f",
   "metadata": {},
   "source": [
    "- Model evaluation in handwritten image recognition refers to the process of assessing the trained model's performance using a separate dataset.\n",
    "- The goal is to measure how well the model generalizes to unseen handwritten images by calculating metrics such as accuracy, loss, precision, recall, and F1-score.\n"
   ]
  },
  {
   "cell_type": "code",
   "execution_count": 91,
   "id": "1136682b-8d7f-45c8-b93d-250152b8b355",
   "metadata": {},
   "outputs": [
    {
     "name": "stdout",
     "output_type": "stream",
     "text": [
      "\u001b[1m313/313\u001b[0m \u001b[32m━━━━━━━━━━━━━━━━━━━━\u001b[0m\u001b[37m\u001b[0m \u001b[1m3s\u001b[0m 11ms/step - accuracy: 0.9898 - loss: 0.0321\n",
      "test accuracy: 0.9926999807357788\n"
     ]
    }
   ],
   "source": [
    "test_loss, test_acc = model.evaluate(x_test, y_test)\n",
    "print(\"test accuracy:\", test_acc)"
   ]
  },
  {
   "cell_type": "markdown",
   "id": "b5a8eb08-cf32-4eb3-a417-b9ec919735b9",
   "metadata": {},
   "source": [
    "### 1) Model Predictions "
   ]
  },
  {
   "cell_type": "markdown",
   "id": "36ca0fe9-8f98-431c-8e12-5e29a9f9ac6a",
   "metadata": {},
   "source": [
    "- Model prediction in handwritten image recognition refers to the process where a trained machine learning model takes an input image of handwritten text and outputs a predicted label corresponding to the recognized character.\n",
    "- The prediction is based on the patterns and features the model has learned during training."
   ]
  },
  {
   "cell_type": "code",
   "execution_count": 94,
   "id": "0efa2c8a-b6fa-4634-b854-1e1f8ccb692b",
   "metadata": {},
   "outputs": [
    {
     "name": "stdout",
     "output_type": "stream",
     "text": [
      "\u001b[1m313/313\u001b[0m \u001b[32m━━━━━━━━━━━━━━━━━━━━\u001b[0m\u001b[37m\u001b[0m \u001b[1m4s\u001b[0m 11ms/step\n"
     ]
    }
   ],
   "source": [
    "y_pred = model.predict(x_test)\n",
    "y_pred_classes = np.argmax(y_pred, axis=1)\n",
    "y_test_classes = np.argmax(y_test, axis=1)"
   ]
  },
  {
   "cell_type": "markdown",
   "id": "252aefa7-d824-429f-ac78-e55d55ac0ccc",
   "metadata": {},
   "source": [
    "# Model Evaluation Of Prediction :-"
   ]
  },
  {
   "cell_type": "markdown",
   "id": "d7c48c36-ef5c-40e6-8f44-7a795ce768ca",
   "metadata": {},
   "source": [
    "- Model evaluation of prediction in handwritten image recognition refers to the process of assessing how well a trained model classifies handwritten characters or digits. \n",
    "- It involves comparing the model's predicted outputs with actual labels to measure accuracy, error rate, and other performance metrics.\n",
    "- The goal is to measure how well the model generalizes to unseen handwritten images by calculating metrics such as accuracy, loss, precision, recall, and F1-score."
   ]
  },
  {
   "cell_type": "code",
   "execution_count": 97,
   "id": "235134a3-e78a-48a5-9acb-7ec16fd092a5",
   "metadata": {},
   "outputs": [],
   "source": [
    "from sklearn.metrics import accuracy_score, precision_score, recall_score, f1_score, classification_report, confusion_matrix"
   ]
  },
  {
   "cell_type": "code",
   "execution_count": 98,
   "id": "2799d1ef-c3be-4dbc-8abb-092e1a0cbff0",
   "metadata": {},
   "outputs": [
    {
     "name": "stdout",
     "output_type": "stream",
     "text": [
      "accuracy score: 0.9927\n"
     ]
    }
   ],
   "source": [
    "accuracy = accuracy_score(y_test_classes, y_pred_classes)\n",
    "print(\"accuracy score:\", accuracy)"
   ]
  },
  {
   "cell_type": "code",
   "execution_count": 99,
   "id": "64d047fa-b888-41e8-b10b-f719ab82e16d",
   "metadata": {},
   "outputs": [
    {
     "name": "stdout",
     "output_type": "stream",
     "text": [
      "precision  score: 0.9926935373095181\n"
     ]
    }
   ],
   "source": [
    "precision_score = precision_score(y_test_classes, y_pred_classes, average=\"macro\")\n",
    "print(\"precision  score:\", precision_score)"
   ]
  },
  {
   "cell_type": "code",
   "execution_count": 100,
   "id": "87a2e827-81c7-4840-a51b-9d44598b88b6",
   "metadata": {},
   "outputs": [
    {
     "name": "stdout",
     "output_type": "stream",
     "text": [
      "recall score: 0.9925313256477161\n"
     ]
    }
   ],
   "source": [
    "recall_score = recall_score(y_test_classes, y_pred_classes, average=\"macro\")\n",
    "print(\"recall score:\", recall_score)"
   ]
  },
  {
   "cell_type": "code",
   "execution_count": 101,
   "id": "a8b23456-304e-4e78-aa0a-a1a9db3ac8a5",
   "metadata": {},
   "outputs": [
    {
     "name": "stdout",
     "output_type": "stream",
     "text": [
      "f1 score: 0.99260095804534\n"
     ]
    }
   ],
   "source": [
    "f1_score = f1_score(y_test_classes, y_pred_classes, average=\"macro\")\n",
    "print(\"f1 score:\", f1_score)"
   ]
  },
  {
   "cell_type": "code",
   "execution_count": 102,
   "id": "1b2ccac8-b07c-41d6-8397-1182b83d8e17",
   "metadata": {},
   "outputs": [
    {
     "name": "stdout",
     "output_type": "stream",
     "text": [
      "              precision    recall  f1-score   support\n",
      "\n",
      "           0       0.99      1.00      1.00       980\n",
      "           1       1.00      0.99      1.00      1135\n",
      "           2       1.00      1.00      1.00      1032\n",
      "           3       0.98      1.00      0.99      1010\n",
      "           4       1.00      0.99      0.99       982\n",
      "           5       0.99      0.98      0.99       892\n",
      "           6       0.99      0.99      0.99       958\n",
      "           7       0.99      0.99      0.99      1028\n",
      "           8       1.00      0.99      1.00       974\n",
      "           9       0.99      0.99      0.99      1009\n",
      "\n",
      "    accuracy                           0.99     10000\n",
      "   macro avg       0.99      0.99      0.99     10000\n",
      "weighted avg       0.99      0.99      0.99     10000\n",
      "\n"
     ]
    }
   ],
   "source": [
    "print(classification_report(y_test_classes, y_pred_classes))"
   ]
  },
  {
   "cell_type": "code",
   "execution_count": 103,
   "id": "cd445a28-b23c-4d88-98ef-a1417c9d3bdf",
   "metadata": {},
   "outputs": [
    {
     "name": "stdout",
     "output_type": "stream",
     "text": [
      "[[ 977    0    0    0    0    0    2    1    0    0]\n",
      " [   0 1129    0    2    0    0    1    3    0    0]\n",
      " [   1    0 1027    0    0    0    1    3    0    0]\n",
      " [   0    0    2 1006    0    2    0    0    0    0]\n",
      " [   0    1    0    0  971    0    4    0    0    6]\n",
      " [   2    0    0   10    0  874    3    1    1    1]\n",
      " [   2    2    0    0    1    1  952    0    0    0]\n",
      " [   0    2    1    0    0    0    0 1022    0    3]\n",
      " [   1    0    0    2    0    0    0    1  969    1]\n",
      " [   0    0    0    2    1    4    0    2    0 1000]]\n"
     ]
    }
   ],
   "source": [
    "print(confusion_matrix(y_test_classes, y_pred_classes))"
   ]
  },
  {
   "cell_type": "markdown",
   "id": "380a8425-5d1c-4b69-bd96-795e41f08bc8",
   "metadata": {},
   "source": [
    "#### Now we can plot the graph to visualize properly"
   ]
  },
  {
   "cell_type": "code",
   "execution_count": 105,
   "id": "a536a8e3-1bd3-49b5-9745-ba7ec21f3064",
   "metadata": {},
   "outputs": [
    {
     "data": {
      "image/png": "[encoded data removed]",
      "text/plain": [
       "<Figure size 1000x500 with 9 Axes>"
      ]
     },
     "metadata": {},
     "output_type": "display_data"
    }
   ],
   "source": [
    "fig, axes = plt.subplots(3,3, figsize=(10,5))\n",
    "for i, ax in enumerate(axes.flat):\n",
    "  ax.imshow(x_test[i].reshape(28, 28), cmap=\"gray\" )\n",
    "  ax.set_title(f\"predicted: {y_pred_classes[i]}, Actual: {y_test_classes[i]}\")\n",
    "  ax.axis(\"off\")\n",
    "plt.show()"
   ]
  },
  {
   "cell_type": "markdown",
   "id": "7a9c82e7-efd5-4e31-99d7-b8d901c4f7b1",
   "metadata": {},
   "source": [
    "# Final insights of the model :-"
   ]
  },
  {
   "cell_type": "markdown",
   "id": "3964c8ab-8d88-4bcc-b554-999eac67807b",
   "metadata": {},
   "source": [
    "- CNN is the best-performing model for handwritten digit recognition.\n",
    "- Accuracy should be above 98% for a well-trained model on MNIST.\n",
    "- Further improvements: Using transfer learning, deeper architectures (ResNet), or ensemble models.\n",
    "- Overall Accuracy is High\r",
    "- \r\n",
    "The model performs very well, as most values lie on the diagonal. Few misclassifications indicate the model is learning we.\n",
    "- Common Misclassification Patterns - The model confuses similar-looking digits (4 ↔ 9, 3 ↔ 8, 5 ↔ 6). This could be due to overlapping features or low   differentiation in some pixel regions. ons."
   ]
  },
  {
   "cell_type": "markdown",
   "id": "28e57499-18d5-4188-a8eb-f2aa58019ab2",
   "metadata": {},
   "source": [
    "# Model Comparison :-"
   ]
  },
  {
   "cell_type": "markdown",
   "id": "30c7ec25-2369-4869-af5c-e13d83a8a590",
   "metadata": {},
   "source": [
    "- Accuracy for this model by using CNN is 99%.\n",
    "- So CNN is the best-performing model for handwritten digit recognition.\n",
    "- It is the best performing model."
   ]
  },
  {
   "cell_type": "markdown",
   "id": "7bb63e38-cea2-4c3a-a884-ed19b0788a1e",
   "metadata": {},
   "source": [
    "# Challenges Faced :-"
   ]
  },
  {
   "cell_type": "markdown",
   "id": "27025237-5a5f-452e-9baa-570bde14780d",
   "metadata": {},
   "source": [
    "- Overfitting: Addressed using dropout, data augmentation, or batch normalization.\n",
    "- Computational Cost: Deep networks take longer to train.\n",
    "- Handwriting Variability: Some digits may be misclassified due to similar handwriting styles.\n",
    "- Noisy or overlapping text reduces accuracy.\n",
    "- Multi-language support remains difficult, especially for cursive or complex scripts.\n"
   ]
  },
  {
   "cell_type": "markdown",
   "id": "8831b265-de60-4b96-b2e9-683714851fc3",
   "metadata": {},
   "source": [
    "# Conclusion :-"
   ]
  },
  {
   "cell_type": "markdown",
   "id": "563a38bd-5471-4c05-b4d6-c43e6c6592cd",
   "metadata": {},
   "source": [
    "- Convolutional neural network (CNN, or ConvNet) can be used to predict Handwritten Digits reasonably. We have successfully developed Handwritten digit \n",
    "recognition with Python, Tensorflow, and Machine Learning libraries. Handwritten Digits have been recognized by more than 99% validation accuracy."
   ]
  }
 ],
 "metadata": {
  "kernelspec": {
   "display_name": "Python 3 (ipykernel)",
   "language": "python",
   "name": "python3"
  },
  "language_info": {
   "codemirror_mode": {
    "name": "ipython",
    "version": 3
   },
   "file_extension": ".py",
   "mimetype": "text/x-python",
   "name": "python",
   "nbconvert_exporter": "python",
   "pygments_lexer": "ipython3",
   "version": "3.12.4"
  }
 },
 "nbformat": 4,
 "nbformat_minor": 5
}
